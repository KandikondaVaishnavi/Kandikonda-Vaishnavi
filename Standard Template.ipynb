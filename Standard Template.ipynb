{
 "cells": [
  {
   "cell_type": "markdown",
   "metadata": {},
   "source": [
    "import pandas as pd\n",
    "import numpy ad np \n",
    "from sklearn.model_selection import train_test_split\n",
    "from Sklearn.\"Package of Algoritham\" import \"Algoritham\""
   ]
  },
  {
   "cell_type": "markdown",
   "metadata": {},
   "source": [
    "\n",
    "Dataset = pd.read_csv(\"\") # Can Use Other sources as well\n",
    "\n",
    "X = Dataset[]\n",
    "Y = Dataset[]"
   ]
  },
  {
   "cell_type": "markdown",
   "metadata": {},
   "source": [
    "X_train,X_test,Y_train,Y_test = train_test_split(X,Y,test_size=\"Test Data size\", Random_state = \"Any Number\")"
   ]
  }
 ],
 "metadata": {
  "language_info": {
   "name": "python"
  }
 },
 "nbformat": 4,
 "nbformat_minor": 2
}
